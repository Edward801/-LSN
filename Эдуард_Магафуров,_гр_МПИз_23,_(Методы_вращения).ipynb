{
  "nbformat": 4,
  "nbformat_minor": 0,
  "metadata": {
    "colab": {
      "provenance": [],
      "include_colab_link": true
    },
    "kernelspec": {
      "name": "python3",
      "display_name": "Python 3"
    },
    "language_info": {
      "name": "python"
    }
  },
  "cells": [
    {
      "cell_type": "markdown",
      "metadata": {
        "id": "view-in-github",
        "colab_type": "text"
      },
      "source": [
        "<a href=\"https://colab.research.google.com/github/Edward801/-LSN/blob/main/%D0%AD%D0%B4%D1%83%D0%B0%D1%80%D0%B4_%D0%9C%D0%B0%D0%B3%D0%B0%D1%84%D1%83%D1%80%D0%BE%D0%B2%2C_%D0%B3%D1%80_%D0%9C%D0%9F%D0%98%D0%B7_23%2C_(%D0%9C%D0%B5%D1%82%D0%BE%D0%B4%D1%8B_%D0%B2%D1%80%D0%B0%D1%89%D0%B5%D0%BD%D0%B8%D1%8F).ipynb\" target=\"_parent\"><img src=\"https://colab.research.google.com/assets/colab-badge.svg\" alt=\"Open In Colab\"/></a>"
      ]
    },
    {
      "cell_type": "code",
      "execution_count": null,
      "metadata": {
        "id": "k4JLIsOYBmGO"
      },
      "outputs": [],
      "source": [
        "# Библиотека для работы с массивами данных\n",
        "import numpy as np"
      ]
    },
    {
      "cell_type": "code",
      "source": [
        "# Функция метода вращений\n",
        "def rotation_method(A, tol=1e-6):\n",
        "    n = A.shape[0] # Задание размера матрицы\n",
        "    max_iterations = 100 * n ** 2 # Максимальное число итераций (100n^2)\n",
        "\n",
        "    # Поиск максимального внедиагонального элемента матрицы А.\n",
        "    def find_max_off_diagonal():\n",
        "        i, j = 0, 1 # Индексы\n",
        "        max_elem = abs(A[0, 1]) # Инициализация максимального элемента\n",
        "        for k in range(n): # Поиск Макс. внедиагонального элемента основан на двойном цикле for, который перебирает все элементы матрицы А\n",
        "            for l in range(n):  # кроме диагональных элементов, и находит максимальное значение\n",
        "                if k != l and abs(A[k, l]) > max_elem: # исключение диагональных элементов, и если значение abs(A[k, l]) больше макс. элемента\n",
        "                    max_elem = abs(A[k, l])\n",
        "                    i, j = k, l\n",
        "        return i, j, max_elem # Возвращаем индексы элемента i,j и его значение max_elem\n",
        "\n",
        "    eigenvectors = np.eye(n)\n",
        "    eigenvalues_history = []\n",
        "    iterations = 0 # Число итераций\n",
        "    i, j, max_elem = find_max_off_diagonal()\n",
        "\n",
        "    while max_elem > tol and iterations < max_iterations:\n",
        "        if A[i, i] == A[j, j]:\n",
        "            angle = np.pi / 4\n",
        "        else:\n",
        "            tau = 2 * A[i, j] / (A[i, i] - A[j, j])\n",
        "            angle = np.arctan(tau) / 2\n",
        "\n",
        "        rotation_matrix = np.eye(n) # единичная матрица\n",
        "        rotation_matrix[i, i] = rotation_matrix[j, j] = np.cos(angle) # эти значения устанавливаются в cos заначений\n",
        "        rotation_matrix[i, j] = -np.sin(angle) # устанавливается в -sin(angle)\n",
        "        rotation_matrix[j, i] = np.sin(angle) # устанавливается в sin(angle)\n",
        "\n",
        "        A = rotation_matrix.T @ A @ rotation_matrix # Умножение матриц\n",
        "        eigenvectors = eigenvectors @ rotation_matrix\n",
        "\n",
        "        eigenvalues_history.append(np.diag(A).copy())\n",
        "\n",
        "        print(A)\n",
        "        #print(eigenvectors)\n",
        "\n",
        "        i, j, max_elem = find_max_off_diagonal()\n",
        "        iterations += 1 # Счётчик итераций\n",
        "\n",
        "        print(iterations)\n",
        "\n",
        "    eigenvalues = np.diag(A)\n",
        "    return eigenvalues, eigenvectors, np.array(eigenvalues_history)"
      ],
      "metadata": {
        "id": "l99wuhOLDFq9"
      },
      "execution_count": null,
      "outputs": []
    },
    {
      "cell_type": "code",
      "source": [
        "# Исходная матрица\n",
        "A = np.array([\n",
        "    [-7, -5, -9],\n",
        "    [-5, 5, 2],\n",
        "    [-9, 2, 9]\n",
        "])"
      ],
      "metadata": {
        "id": "_8ViEhtUDI4L"
      },
      "execution_count": null,
      "outputs": []
    },
    {
      "cell_type": "code",
      "source": [
        "# Вычисление собственных значений и векторов и истории собственных значений\n",
        "eigenvalues, eigenvectors, history = rotation_method(A)\n",
        "errors = np.diff(history, axis=0)\n",
        "max_errors = np.max(np.abs(errors), axis=1)"
      ],
      "metadata": {
        "colab": {
          "base_uri": "https://localhost:8080/"
        },
        "id": "NGuF-4e8DLKR",
        "outputId": "a9a713ca-af7d-4ba5-b56a-a969194efa95"
      },
      "execution_count": null,
      "outputs": [
        {
          "output_type": "stream",
          "name": "stdout",
          "text": [
            "[[ 3.82165849e+00  7.06686472e-16  8.53992610e+00]\n",
            " [ 1.18041613e-15 -1.28216585e+01 -1.03424478e+00]\n",
            " [ 8.53992610e+00 -1.03424478e+00 -1.00000000e+00]]\n",
            "1\n",
            "[[ 1.02845227e+01 -6.24120783e-01  6.14448168e-16]\n",
            " [-6.24120783e-01 -1.28216585e+01 -8.24703289e-01]\n",
            " [ 4.64878625e-16 -8.24703289e-01 -7.46286420e+00]]\n",
            "2\n",
            "[[ 1.02845227e+01 -6.17178080e-01  9.28330175e-02]\n",
            " [-6.17178080e-01 -1.29457065e+01 -1.75296140e-16]\n",
            " [ 9.28330175e-02  1.63738593e-16 -7.33881622e+00]]\n",
            "3\n",
            "[[ 1.03009082e+01  2.97983386e-17  9.28003178e-02]\n",
            " [ 2.25041601e-16 -1.29620920e+01  2.46377043e-03]\n",
            " [ 9.28003178e-02  2.46377043e-03 -7.33881622e+00]]\n",
            "4\n",
            "[[ 1.03013964e+01  1.29610407e-05 -6.45410271e-18]\n",
            " [ 1.29610407e-05 -1.29620920e+01  2.46373634e-03]\n",
            " [-2.17437809e-16  2.46373634e-03 -7.33930442e+00]]\n",
            "5\n",
            "[[ 1.03013964e+01  1.29610395e-05  5.67913641e-09]\n",
            " [ 1.29610395e-05 -1.29620931e+01 -3.33657257e-16]\n",
            " [ 5.67913620e-09  5.97331289e-19 -7.33930334e+00]]\n",
            "6\n",
            "[[ 1.03013964e+01 -1.93578086e-16  5.67913641e-09]\n",
            " [ 8.12027833e-23 -1.29620931e+01 -3.49773594e-15]\n",
            " [ 5.67913620e-09 -3.16348123e-15 -7.33930334e+00]]\n",
            "7\n"
          ]
        }
      ]
    },
    {
      "cell_type": "code",
      "source": [
        "# Вывод собственных значений\n",
        "print(\"\\nСобственные значения:\")\n",
        "print(eigenvalues)"
      ],
      "metadata": {
        "colab": {
          "base_uri": "https://localhost:8080/"
        },
        "id": "L7Tb8tvBDM2x",
        "outputId": "18a14e92-943a-4efd-ada1-d2a9faa46a78"
      },
      "execution_count": null,
      "outputs": [
        {
          "output_type": "stream",
          "name": "stdout",
          "text": [
            "\n",
            "Собственные значения:\n",
            "[ 10.30139645 -12.96209311  -7.33930334]\n"
          ]
        }
      ]
    },
    {
      "cell_type": "code",
      "source": [
        "# Вывод собственных векторов\n",
        "print(\"\\nСобственные векторы:\")\n",
        "print(eigenvectors)"
      ],
      "metadata": {
        "colab": {
          "base_uri": "https://localhost:8080/"
        },
        "id": "tA_-Igb0DOR0",
        "outputId": "02ac076f-7419-42e0-d009-08bf0c7904ab"
      },
      "execution_count": null,
      "outputs": [
        {
          "output_type": "stream",
          "name": "stdout",
          "text": [
            "\n",
            "Собственные векторы:\n",
            "[[ 0.68601342  0.41377235 -0.59847977]\n",
            " [-0.40532144  0.90042945  0.15792826]\n",
            " [ 0.60423516  0.13423577  0.78541749]]\n"
          ]
        }
      ]
    },
    {
      "cell_type": "code",
      "source": [
        "# Вывод количества итераций и погрешности\n",
        "print(\"\\nКоличество итераций:\", len(max_errors))"
      ],
      "metadata": {
        "colab": {
          "base_uri": "https://localhost:8080/"
        },
        "id": "XUnmBIReDUNC",
        "outputId": "a9bd9335-d010-4c19-fff3-b8f73eb28132"
      },
      "execution_count": null,
      "outputs": [
        {
          "output_type": "stream",
          "name": "stdout",
          "text": [
            "\n",
            "Количество итераций: 6\n"
          ]
        }
      ]
    }
  ]
}